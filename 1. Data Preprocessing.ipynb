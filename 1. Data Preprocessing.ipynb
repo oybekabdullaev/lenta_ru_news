{
 "cells": [
  {
   "cell_type": "markdown",
   "metadata": {},
   "source": [
    "# Data Preprocessing"
   ]
  },
  {
   "cell_type": "markdown",
   "metadata": {},
   "source": [
    "## Loading data"
   ]
  },
  {
   "cell_type": "code",
   "execution_count": 1,
   "metadata": {},
   "outputs": [],
   "source": [
    "import pandas as pd"
   ]
  },
  {
   "cell_type": "code",
   "execution_count": 2,
   "metadata": {},
   "outputs": [],
   "source": [
    "# Specify dtypes of columns\n",
    "dtypes = {\n",
    "    'url': str,\n",
    "    'title': str,\n",
    "    'text': str,\n",
    "    'topic': str,\n",
    "    'tags': str,\n",
    "    'date': str\n",
    "}"
   ]
  },
  {
   "cell_type": "code",
   "execution_count": 3,
   "metadata": {},
   "outputs": [],
   "source": [
    "# Load dataset\n",
    "data = pd.read_csv(\"lenta-ru-news.csv\", dtype=dtypes)"
   ]
  },
  {
   "cell_type": "code",
   "execution_count": 4,
   "metadata": {},
   "outputs": [
    {
     "data": {
      "text/html": [
       "<div>\n",
       "<style scoped>\n",
       "    .dataframe tbody tr th:only-of-type {\n",
       "        vertical-align: middle;\n",
       "    }\n",
       "\n",
       "    .dataframe tbody tr th {\n",
       "        vertical-align: top;\n",
       "    }\n",
       "\n",
       "    .dataframe thead th {\n",
       "        text-align: right;\n",
       "    }\n",
       "</style>\n",
       "<table border=\"1\" class=\"dataframe\">\n",
       "  <thead>\n",
       "    <tr style=\"text-align: right;\">\n",
       "      <th></th>\n",
       "      <th>url</th>\n",
       "      <th>title</th>\n",
       "      <th>text</th>\n",
       "      <th>topic</th>\n",
       "      <th>tags</th>\n",
       "      <th>date</th>\n",
       "    </tr>\n",
       "  </thead>\n",
       "  <tbody>\n",
       "    <tr>\n",
       "      <th>0</th>\n",
       "      <td>https://lenta.ru/news/1914/09/16/hungarnn/</td>\n",
       "      <td>1914. Русские войска вступили в пределы Венгрии</td>\n",
       "      <td>Бои у Сопоцкина и Друскеник закончились отступ...</td>\n",
       "      <td>Библиотека</td>\n",
       "      <td>Первая мировая</td>\n",
       "      <td>1914/09/16</td>\n",
       "    </tr>\n",
       "    <tr>\n",
       "      <th>1</th>\n",
       "      <td>https://lenta.ru/news/1914/09/16/lermontov/</td>\n",
       "      <td>1914. Празднование столетия М.Ю. Лермонтова от...</td>\n",
       "      <td>Министерство народного просвещения, в виду про...</td>\n",
       "      <td>Библиотека</td>\n",
       "      <td>Первая мировая</td>\n",
       "      <td>1914/09/16</td>\n",
       "    </tr>\n",
       "    <tr>\n",
       "      <th>2</th>\n",
       "      <td>https://lenta.ru/news/1914/09/17/nesteroff/</td>\n",
       "      <td>1914. Das ist Nesteroff!</td>\n",
       "      <td>Штабс-капитан П. Н. Нестеров на днях, увидев в...</td>\n",
       "      <td>Библиотека</td>\n",
       "      <td>Первая мировая</td>\n",
       "      <td>1914/09/17</td>\n",
       "    </tr>\n",
       "    <tr>\n",
       "      <th>3</th>\n",
       "      <td>https://lenta.ru/news/1914/09/17/bulldogn/</td>\n",
       "      <td>1914. Бульдог-гонец под Льежем</td>\n",
       "      <td>Фотограф-корреспондент Daily Mirror рассказыва...</td>\n",
       "      <td>Библиотека</td>\n",
       "      <td>Первая мировая</td>\n",
       "      <td>1914/09/17</td>\n",
       "    </tr>\n",
       "    <tr>\n",
       "      <th>4</th>\n",
       "      <td>https://lenta.ru/news/1914/09/18/zver/</td>\n",
       "      <td>1914. Под Люблином пойман швабский зверь</td>\n",
       "      <td>Лица, приехавшие в Варшаву из Люблина, передаю...</td>\n",
       "      <td>Библиотека</td>\n",
       "      <td>Первая мировая</td>\n",
       "      <td>1914/09/18</td>\n",
       "    </tr>\n",
       "  </tbody>\n",
       "</table>\n",
       "</div>"
      ],
      "text/plain": [
       "                                           url  \\\n",
       "0   https://lenta.ru/news/1914/09/16/hungarnn/   \n",
       "1  https://lenta.ru/news/1914/09/16/lermontov/   \n",
       "2  https://lenta.ru/news/1914/09/17/nesteroff/   \n",
       "3   https://lenta.ru/news/1914/09/17/bulldogn/   \n",
       "4       https://lenta.ru/news/1914/09/18/zver/   \n",
       "\n",
       "                                               title  \\\n",
       "0  1914. Русские войска вступили в пределы Венгрии     \n",
       "1  1914. Празднование столетия М.Ю. Лермонтова от...   \n",
       "2                           1914. Das ist Nesteroff!   \n",
       "3                    1914. Бульдог-гонец под Льежем    \n",
       "4           1914. Под Люблином пойман швабский зверь   \n",
       "\n",
       "                                                text       topic  \\\n",
       "0  Бои у Сопоцкина и Друскеник закончились отступ...  Библиотека   \n",
       "1  Министерство народного просвещения, в виду про...  Библиотека   \n",
       "2  Штабс-капитан П. Н. Нестеров на днях, увидев в...  Библиотека   \n",
       "3  Фотограф-корреспондент Daily Mirror рассказыва...  Библиотека   \n",
       "4  Лица, приехавшие в Варшаву из Люблина, передаю...  Библиотека   \n",
       "\n",
       "             tags        date  \n",
       "0  Первая мировая  1914/09/16  \n",
       "1  Первая мировая  1914/09/16  \n",
       "2  Первая мировая  1914/09/17  \n",
       "3  Первая мировая  1914/09/17  \n",
       "4  Первая мировая  1914/09/18  "
      ]
     },
     "execution_count": 4,
     "metadata": {},
     "output_type": "execute_result"
    }
   ],
   "source": [
    "# Preview dataset\n",
    "data.head()"
   ]
  },
  {
   "cell_type": "markdown",
   "metadata": {},
   "source": [
    "## Data Preparing"
   ]
  },
  {
   "cell_type": "code",
   "execution_count": 5,
   "metadata": {},
   "outputs": [
    {
     "data": {
      "text/html": [
       "<div>\n",
       "<style scoped>\n",
       "    .dataframe tbody tr th:only-of-type {\n",
       "        vertical-align: middle;\n",
       "    }\n",
       "\n",
       "    .dataframe tbody tr th {\n",
       "        vertical-align: top;\n",
       "    }\n",
       "\n",
       "    .dataframe thead th {\n",
       "        text-align: right;\n",
       "    }\n",
       "</style>\n",
       "<table border=\"1\" class=\"dataframe\">\n",
       "  <thead>\n",
       "    <tr style=\"text-align: right;\">\n",
       "      <th></th>\n",
       "      <th>url</th>\n",
       "      <th>title</th>\n",
       "      <th>text</th>\n",
       "      <th>topic</th>\n",
       "      <th>tags</th>\n",
       "      <th>date</th>\n",
       "    </tr>\n",
       "  </thead>\n",
       "  <tbody>\n",
       "    <tr>\n",
       "      <th>150785</th>\n",
       "      <td>https://lenta.ru/news/2006/04/20/student1/</td>\n",
       "      <td>Прокуратура не нашла национальной почвы в напа...</td>\n",
       "      <td>NaN</td>\n",
       "      <td>Россия</td>\n",
       "      <td>Все</td>\n",
       "      <td>2006/04/20</td>\n",
       "    </tr>\n",
       "    <tr>\n",
       "      <th>153075</th>\n",
       "      <td>https://lenta.ru/news/2006/05/16/dagestan/</td>\n",
       "      <td>При штурме дома в Кизилюрте ранены шестеро</td>\n",
       "      <td>NaN</td>\n",
       "      <td>Россия</td>\n",
       "      <td>Все</td>\n",
       "      <td>2006/05/16</td>\n",
       "    </tr>\n",
       "    <tr>\n",
       "      <th>153931</th>\n",
       "      <td>https://lenta.ru/news/2006/05/24/fire/</td>\n",
       "      <td>В Стамбуле горит багажное отделение аэропорта ...</td>\n",
       "      <td>NaN</td>\n",
       "      <td>Мир</td>\n",
       "      <td>Все</td>\n",
       "      <td>2006/05/24</td>\n",
       "    </tr>\n",
       "    <tr>\n",
       "      <th>154591</th>\n",
       "      <td>https://lenta.ru/news/2006/05/31/an70/</td>\n",
       "      <td>РФ вышла из российско-украинского проекта Ан-70</td>\n",
       "      <td>NaN</td>\n",
       "      <td>Россия</td>\n",
       "      <td>Все</td>\n",
       "      <td>2006/05/31</td>\n",
       "    </tr>\n",
       "    <tr>\n",
       "      <th>582527</th>\n",
       "      <td>https://lenta.ru/news/2016/02/23/aquarium/</td>\n",
       "      <td>Гребенщиков заработал 10 тысяч рублей в омском...</td>\n",
       "      <td>NaN</td>\n",
       "      <td>Культура</td>\n",
       "      <td>Музыка</td>\n",
       "      <td>2016/02/23</td>\n",
       "    </tr>\n",
       "  </tbody>\n",
       "</table>\n",
       "</div>"
      ],
      "text/plain": [
       "                                               url  \\\n",
       "150785  https://lenta.ru/news/2006/04/20/student1/   \n",
       "153075  https://lenta.ru/news/2006/05/16/dagestan/   \n",
       "153931      https://lenta.ru/news/2006/05/24/fire/   \n",
       "154591      https://lenta.ru/news/2006/05/31/an70/   \n",
       "582527  https://lenta.ru/news/2016/02/23/aquarium/   \n",
       "\n",
       "                                                    title text     topic  \\\n",
       "150785  Прокуратура не нашла национальной почвы в напа...  NaN    Россия   \n",
       "153075         При штурме дома в Кизилюрте ранены шестеро  NaN    Россия   \n",
       "153931  В Стамбуле горит багажное отделение аэропорта ...  NaN       Мир   \n",
       "154591    РФ вышла из российско-украинского проекта Ан-70  NaN    Россия   \n",
       "582527  Гребенщиков заработал 10 тысяч рублей в омском...  NaN  Культура   \n",
       "\n",
       "          tags        date  \n",
       "150785     Все  2006/04/20  \n",
       "153075     Все  2006/05/16  \n",
       "153931     Все  2006/05/24  \n",
       "154591     Все  2006/05/31  \n",
       "582527  Музыка  2016/02/23  "
      ]
     },
     "metadata": {},
     "output_type": "display_data"
    }
   ],
   "source": [
    "# Check if there are NaN values for 'text'\n",
    "display(data[data['text'].isna()])"
   ]
  },
  {
   "cell_type": "code",
   "execution_count": 6,
   "metadata": {},
   "outputs": [],
   "source": [
    "# Fill NaN values\n",
    "data.loc[150785, 'text'] = 'Прокуратура Санкт-Петербурга не сочла нападение на студента из Индии совершенным на национальной почве, пишет интернет-издание Фонтанка.Ру. Уголовное дело по факту нападения возбуждено по статьям 30 и 105, часть 1, УК РФ (покушение на убийство). Мотивы нападения в настоящий момент устанавливаются. Напомним, что двое человек с ножом напали на студента 5 курса Медецинской академии имени Мечникова Анджанги Кишори Кумара на Кирилловской улице, возле общежития академии, около 9 часов вечера 19 апреля. 22-летний индиец был госпитализирован с резаным ранением шеи. В Мариинской больнице ему сделали операцию. По сообщению РИА Новости, врачи оценивают состояние студента как удовлетворительное. Он находится в общем хирургическом отделении больницы.'\n",
    "data.loc[153075, 'text'] = 'В Дагестане в кизилюртовскую центральную районную больницу с места спецоперации доставлены шестеро раненых, из них пятеро милиционеров, а шестой - мирный житель, передает РИА Новости. ОМОН продолжает штурмовать многоэтажное здание на улице Гагарина в Кизилюрте, где в одной из квартир укрылись боевики. Стали известны имена боевиков, заблокированных в квартире. РИА Новости сообщает, что это Абдулмажид Кабашилаев и Ибрагим Ибрагимов, объявленные в федеральный розыск после спецоперации 6 мая в Буйнакском районе. Тогда был убит один и ранены четверо военнослужащих федеральных сил, а боевикам удалось уйти.'\n",
    "data.loc[153931, 'text'] = 'В Турции загорелось багажное отделение международного аэропорта Стамбула \"Ататюрк\", сообщает телеканал CNN. В настоящее время пожарные пытаются локализовать огонь. Используется пожарная авиация. Как сообщает Associated Press, работа аэропорта полностью остановлена. По информации агентства France Presse, к аэропорту прибыли автомобили скорой помощи. Однако к данному моменту информации о раненых или погибших не поступало. Данных об эвакуации людей также не передавалось. Международный аэропорт \"Ататюрк\" является одним из крупнейших транспортных узлов Ближнего Востока и Восточной Европы. Он находится в европейской части Стамбула, на северном берегу залива Босфор.'\n",
    "data.loc[154591, 'text'] = 'Россия вышла из совместного с Украиной проекта создания самолета Ан-70, передает агентство РБК. Как заявил Анатолий Гриценко, министр обороны Украины, в ходе его встречи с российским коллегой Сергеем Ивановым, состоявшейся 30 мая в Баку, \"наступила полная ясность - российской стороной одобрено решение о том, что она выходит из проекта\". По словам Гриценко, руководители оборонных ведомств двух стран договорились, что этот выход будет осуществляться с участием экспертов, способных урегулировать вопросы финансирования и интеллектуальной собственности. Он считает, что Украина в дальнейшем сможет самостоятельно дорабатывать проект. Ранее украинская сторона уже выражала недовольство слабой заинтересованностью России в проекте и заявляла о готовности к поиску новых партнеров по проекту. В их числе назывались, в частности, компании Airbus и Boeing. Ан-70 планировался как тяжелый транспортный самолет грузоподъемностью до 47 тонн. Доля российского участия в проекте составляла 80 процентов. Впервые о намерении России отказаться от доработки Ан-70 заявил главком ВВС РФ Владимир Михайлов в начале апреля. Основным тяжелым транспортным самолетом российских военно-воздушных сил предполагается сделать Ил-76.'\n",
    "data.loc[582527, 'text'] = 'Борис Гребенщиков и участники группы «Аквариум» дали концерт в подземном переходе в Омске. Как пишет «Российская газета» со ссылкой на очевидцев, импровизированное выступление прошло «на ура». Музыканты исполнили для зрителей свои хиты — «Парусный флот», «Стаканы» и «Собачий вальс» — и за полчаса заработали 10 тысяч рублей.'"
   ]
  },
  {
   "cell_type": "markdown",
   "metadata": {},
   "source": [
    "## Data Cleaning"
   ]
  },
  {
   "cell_type": "code",
   "execution_count": 7,
   "metadata": {},
   "outputs": [],
   "source": [
    "import re\n",
    "from string import punctuation"
   ]
  },
  {
   "cell_type": "code",
   "execution_count": 8,
   "metadata": {},
   "outputs": [],
   "source": [
    "# Preprocess function\n",
    "def preprocess_text(text):\n",
    "    '''Remove words containing numbers,\n",
    "remove special characters, punctuation and non-cyrillic symbols from text'''\n",
    "    \n",
    "    text = text.lower()\n",
    "    text = re.sub('\\w*\\d-*\\w*', '', text)\n",
    "    text = re.sub('[%s]' % re.escape(punctuation), ' ', text)\n",
    "    text = re.sub('[‘’“”…«»–—№]', ' ', text)\n",
    "    text = re.sub('\\n', ' ', text)\n",
    "    text = re.sub('[^\\u0400-\\u04FF\\u0500-\\u052F ]', '', text)\n",
    "    \n",
    "    return text\n",
    "\n",
    "preprocess = lambda x: preprocess_text(x)"
   ]
  },
  {
   "cell_type": "code",
   "execution_count": 9,
   "metadata": {},
   "outputs": [],
   "source": [
    "# Apply preprocessing\n",
    "data['text'] = data['text'].apply(preprocess)"
   ]
  },
  {
   "cell_type": "code",
   "execution_count": 10,
   "metadata": {},
   "outputs": [
    {
     "data": {
      "text/html": [
       "<div>\n",
       "<style scoped>\n",
       "    .dataframe tbody tr th:only-of-type {\n",
       "        vertical-align: middle;\n",
       "    }\n",
       "\n",
       "    .dataframe tbody tr th {\n",
       "        vertical-align: top;\n",
       "    }\n",
       "\n",
       "    .dataframe thead th {\n",
       "        text-align: right;\n",
       "    }\n",
       "</style>\n",
       "<table border=\"1\" class=\"dataframe\">\n",
       "  <thead>\n",
       "    <tr style=\"text-align: right;\">\n",
       "      <th></th>\n",
       "      <th>url</th>\n",
       "      <th>title</th>\n",
       "      <th>text</th>\n",
       "      <th>topic</th>\n",
       "      <th>tags</th>\n",
       "      <th>date</th>\n",
       "    </tr>\n",
       "  </thead>\n",
       "  <tbody>\n",
       "    <tr>\n",
       "      <th>0</th>\n",
       "      <td>https://lenta.ru/news/1914/09/16/hungarnn/</td>\n",
       "      <td>1914. Русские войска вступили в пределы Венгрии</td>\n",
       "      <td>бои у сопоцкина и друскеник закончились отступ...</td>\n",
       "      <td>Библиотека</td>\n",
       "      <td>Первая мировая</td>\n",
       "      <td>1914/09/16</td>\n",
       "    </tr>\n",
       "    <tr>\n",
       "      <th>1</th>\n",
       "      <td>https://lenta.ru/news/1914/09/16/lermontov/</td>\n",
       "      <td>1914. Празднование столетия М.Ю. Лермонтова от...</td>\n",
       "      <td>министерство народного просвещения  в виду про...</td>\n",
       "      <td>Библиотека</td>\n",
       "      <td>Первая мировая</td>\n",
       "      <td>1914/09/16</td>\n",
       "    </tr>\n",
       "    <tr>\n",
       "      <th>2</th>\n",
       "      <td>https://lenta.ru/news/1914/09/17/nesteroff/</td>\n",
       "      <td>1914. Das ist Nesteroff!</td>\n",
       "      <td>штабс капитан п  н  нестеров на днях  увидев в...</td>\n",
       "      <td>Библиотека</td>\n",
       "      <td>Первая мировая</td>\n",
       "      <td>1914/09/17</td>\n",
       "    </tr>\n",
       "    <tr>\n",
       "      <th>3</th>\n",
       "      <td>https://lenta.ru/news/1914/09/17/bulldogn/</td>\n",
       "      <td>1914. Бульдог-гонец под Льежем</td>\n",
       "      <td>фотограф корреспондент   рассказывает случай  ...</td>\n",
       "      <td>Библиотека</td>\n",
       "      <td>Первая мировая</td>\n",
       "      <td>1914/09/17</td>\n",
       "    </tr>\n",
       "    <tr>\n",
       "      <th>4</th>\n",
       "      <td>https://lenta.ru/news/1914/09/18/zver/</td>\n",
       "      <td>1914. Под Люблином пойман швабский зверь</td>\n",
       "      <td>лица  приехавшие в варшаву из люблина  передаю...</td>\n",
       "      <td>Библиотека</td>\n",
       "      <td>Первая мировая</td>\n",
       "      <td>1914/09/18</td>\n",
       "    </tr>\n",
       "  </tbody>\n",
       "</table>\n",
       "</div>"
      ],
      "text/plain": [
       "                                           url  \\\n",
       "0   https://lenta.ru/news/1914/09/16/hungarnn/   \n",
       "1  https://lenta.ru/news/1914/09/16/lermontov/   \n",
       "2  https://lenta.ru/news/1914/09/17/nesteroff/   \n",
       "3   https://lenta.ru/news/1914/09/17/bulldogn/   \n",
       "4       https://lenta.ru/news/1914/09/18/zver/   \n",
       "\n",
       "                                               title  \\\n",
       "0  1914. Русские войска вступили в пределы Венгрии     \n",
       "1  1914. Празднование столетия М.Ю. Лермонтова от...   \n",
       "2                           1914. Das ist Nesteroff!   \n",
       "3                    1914. Бульдог-гонец под Льежем    \n",
       "4           1914. Под Люблином пойман швабский зверь   \n",
       "\n",
       "                                                text       topic  \\\n",
       "0  бои у сопоцкина и друскеник закончились отступ...  Библиотека   \n",
       "1  министерство народного просвещения  в виду про...  Библиотека   \n",
       "2  штабс капитан п  н  нестеров на днях  увидев в...  Библиотека   \n",
       "3  фотограф корреспондент   рассказывает случай  ...  Библиотека   \n",
       "4  лица  приехавшие в варшаву из люблина  передаю...  Библиотека   \n",
       "\n",
       "             tags        date  \n",
       "0  Первая мировая  1914/09/16  \n",
       "1  Первая мировая  1914/09/16  \n",
       "2  Первая мировая  1914/09/17  \n",
       "3  Первая мировая  1914/09/17  \n",
       "4  Первая мировая  1914/09/18  "
      ]
     },
     "execution_count": 10,
     "metadata": {},
     "output_type": "execute_result"
    }
   ],
   "source": [
    "data.head()"
   ]
  },
  {
   "cell_type": "markdown",
   "metadata": {},
   "source": [
    "## Lemmatizing"
   ]
  },
  {
   "cell_type": "code",
   "execution_count": 11,
   "metadata": {},
   "outputs": [],
   "source": [
    "from pymystem3 import Mystem\n",
    "from tqdm import tqdm"
   ]
  },
  {
   "cell_type": "code",
   "execution_count": 12,
   "metadata": {},
   "outputs": [],
   "source": [
    "# Convert 'text' column to list\n",
    "texts = list(data['text'])"
   ]
  },
  {
   "cell_type": "code",
   "execution_count": 13,
   "metadata": {},
   "outputs": [],
   "source": [
    "# Batch size should be choosen based on the RAM and CPU\n",
    "batch_size = 1000"
   ]
  },
  {
   "cell_type": "code",
   "execution_count": 14,
   "metadata": {},
   "outputs": [],
   "source": [
    "# Create text batches for efficient lemmatizing\n",
    "text_batches = [texts[i: i + batch_size] for i in \n",
    "                range(0, len(texts), batch_size)]"
   ]
  },
  {
   "cell_type": "code",
   "execution_count": 15,
   "metadata": {},
   "outputs": [],
   "source": [
    "# Initialize stemmer\n",
    "m = Mystem()"
   ]
  },
  {
   "cell_type": "code",
   "execution_count": 16,
   "metadata": {},
   "outputs": [],
   "source": [
    "def lemmatize(text):\n",
    "    '''Lemmatize text'''\n",
    "    \n",
    "    merged_text = '|'.join(text)\n",
    "    \n",
    "    doc = []\n",
    "    res = []\n",
    "    \n",
    "    for t in m.lemmatize(merged_text):\n",
    "        t = t.strip()\n",
    "        if t != '|':\n",
    "            doc.append(t)\n",
    "        else:\n",
    "            res.append(doc)\n",
    "            doc = []\n",
    "            \n",
    "#     exlude '\\n' from the last doc and append it to the list\n",
    "    res.append(doc[:-1])\n",
    "    \n",
    "    return res"
   ]
  },
  {
   "cell_type": "code",
   "execution_count": 17,
   "metadata": {},
   "outputs": [],
   "source": [
    "# processed_texts = [lemmatize(t) for t in tqdm(text_batches)]"
   ]
  },
  {
   "cell_type": "code",
   "execution_count": 18,
   "metadata": {},
   "outputs": [],
   "source": [
    "# lst = []\n",
    "# for batch in processed_texts:\n",
    "#     for text in batch:\n",
    "#         lst.append(' '.join(text))"
   ]
  },
  {
   "cell_type": "code",
   "execution_count": 20,
   "metadata": {},
   "outputs": [],
   "source": [
    "# data['text'] = pd.Series(lst)"
   ]
  },
  {
   "cell_type": "code",
   "execution_count": 22,
   "metadata": {},
   "outputs": [],
   "source": [
    "# data.head()"
   ]
  },
  {
   "cell_type": "markdown",
   "metadata": {},
   "source": [
    "## Saving data"
   ]
  },
  {
   "cell_type": "code",
   "execution_count": 23,
   "metadata": {},
   "outputs": [],
   "source": [
    "# Write prepared dataset to pickle for future use\n",
    "data.to_pickle('lenta-ru-news-prepared.pkl')"
   ]
  },
  {
   "cell_type": "code",
   "execution_count": null,
   "metadata": {},
   "outputs": [],
   "source": []
  }
 ],
 "metadata": {
  "kernelspec": {
   "display_name": "Python 3",
   "language": "python",
   "name": "python3"
  },
  "language_info": {
   "codemirror_mode": {
    "name": "ipython",
    "version": 3
   },
   "file_extension": ".py",
   "mimetype": "text/x-python",
   "name": "python",
   "nbconvert_exporter": "python",
   "pygments_lexer": "ipython3",
   "version": "3.7.3"
  }
 },
 "nbformat": 4,
 "nbformat_minor": 2
}
